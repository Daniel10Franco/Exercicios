{
  "nbformat": 4,
  "nbformat_minor": 0,
  "metadata": {
    "colab": {
      "provenance": [],
      "authorship_tag": "ABX9TyPUlOScldkKNy+fl09mQMP6",
      "include_colab_link": true
    },
    "kernelspec": {
      "name": "python3",
      "display_name": "Python 3"
    },
    "language_info": {
      "name": "python"
    }
  },
  "cells": [
    {
      "cell_type": "markdown",
      "metadata": {
        "id": "view-in-github",
        "colab_type": "text"
      },
      "source": [
        "<a href=\"https://colab.research.google.com/github/Daniel10Franco/Exercicios/blob/main/TESTE.ipynb\" target=\"_parent\"><img src=\"https://colab.research.google.com/assets/colab-badge.svg\" alt=\"Open In Colab\"/></a>"
      ]
    },
    {
      "cell_type": "markdown",
      "source": [
        "O primeiro programa!\n"
      ],
      "metadata": {
        "id": "ERsSNEhL4sl0"
      }
    },
    {
      "cell_type": "code",
      "execution_count": 5,
      "metadata": {
        "colab": {
          "base_uri": "https://localhost:8080/"
        },
        "id": "CUFEGO2v4Lxb",
        "outputId": "2a284194-4df6-4a78-ca86-93696f2db398"
      },
      "outputs": [
        {
          "output_type": "stream",
          "name": "stdout",
          "text": [
            "Olá mundo\n"
          ]
        }
      ],
      "source": [
        "print ('Olá mundo')"
      ]
    },
    {
      "cell_type": "code",
      "source": [
        "print(2+4)"
      ],
      "metadata": {
        "colab": {
          "base_uri": "https://localhost:8080/"
        },
        "id": "9LiXCoPK5LXa",
        "outputId": "306b503e-f857-4092-9175-4b977af85f3c"
      },
      "execution_count": 20,
      "outputs": [
        {
          "output_type": "stream",
          "name": "stdout",
          "text": [
            "6\n"
          ]
        }
      ]
    },
    {
      "cell_type": "code",
      "source": [
        "print('2 + 4')"
      ],
      "metadata": {
        "colab": {
          "base_uri": "https://localhost:8080/"
        },
        "id": "poZErzPz5Q7y",
        "outputId": "a1f050bd-7dbd-49be-9bf7-ea15e2dbd2b2"
      },
      "execution_count": 23,
      "outputs": [
        {
          "output_type": "stream",
          "name": "stdout",
          "text": [
            "2 + 4\n"
          ]
        }
      ]
    },
    {
      "cell_type": "code",
      "source": [
        "print('2' + '4')"
      ],
      "metadata": {
        "colab": {
          "base_uri": "https://localhost:8080/"
        },
        "id": "0TI5zo7P5RIa",
        "outputId": "ba9ba818-e44f-4c2a-ae07-85a14a858740"
      },
      "execution_count": 22,
      "outputs": [
        {
          "output_type": "stream",
          "name": "stdout",
          "text": [
            "24\n"
          ]
        }
      ]
    },
    {
      "cell_type": "code",
      "source": [
        "print(55/7)"
      ],
      "metadata": {
        "colab": {
          "base_uri": "https://localhost:8080/"
        },
        "id": "MMm5-Rdi849q",
        "outputId": "0873d30b-b592-4d58-caf1-cfc55e5ee491"
      },
      "execution_count": 24,
      "outputs": [
        {
          "output_type": "stream",
          "name": "stdout",
          "text": [
            "7.857142857142857\n"
          ]
        }
      ]
    },
    {
      "cell_type": "code",
      "source": [
        "print(55//7)"
      ],
      "metadata": {
        "colab": {
          "base_uri": "https://localhost:8080/"
        },
        "id": "eWpTp9Il89xA",
        "outputId": "8012aa50-2854-4810-f251-c42c199dc508"
      },
      "execution_count": 25,
      "outputs": [
        {
          "output_type": "stream",
          "name": "stdout",
          "text": [
            "7\n"
          ]
        }
      ]
    },
    {
      "cell_type": "code",
      "source": [
        "nota = 9.0\n",
        "disciplina = 'lógica de programação'\n",
        "\n",
        "print(nota)\n",
        "print(disciplina)"
      ],
      "metadata": {
        "id": "ESaLn-I62c8m"
      },
      "execution_count": null,
      "outputs": []
    },
    {
      "cell_type": "code",
      "source": [
        "print('Disciplina:',disciplina,'Nota:',nota)"
      ],
      "metadata": {
        "colab": {
          "base_uri": "https://localhost:8080/"
        },
        "id": "6Gft5U293Fm8",
        "outputId": "9307ca18-775c-48ab-da44-e9f7f9e80f65"
      },
      "execution_count": 19,
      "outputs": [
        {
          "output_type": "stream",
          "name": "stdout",
          "text": [
            "Disciplina: Lógica de programação e algoritmos Nota: 8.5\n"
          ]
        }
      ]
    },
    {
      "cell_type": "markdown",
      "source": [
        "## **Booleano**"
      ],
      "metadata": {
        "id": "QqZOyXJZ3G_m"
      }
    },
    {
      "cell_type": "markdown",
      "source": [
        "A e B são iguais?"
      ],
      "metadata": {
        "id": "wsxaNpD49r7w"
      }
    },
    {
      "cell_type": "code",
      "source": [
        "a=4\n",
        "b=5\n",
        "questão = a == b # == é um conjunto de caracteres que representam \"igual a\"\n",
        "print(questão)"
      ],
      "metadata": {
        "colab": {
          "base_uri": "https://localhost:8080/"
        },
        "id": "PB1oS26i5CEw",
        "outputId": "b34ac741-f95d-4051-96ff-96593c75b09b"
      },
      "execution_count": 15,
      "outputs": [
        {
          "output_type": "stream",
          "name": "stdout",
          "text": [
            "False\n"
          ]
        }
      ]
    },
    {
      "cell_type": "markdown",
      "source": [
        "A e B são diferentes?"
      ],
      "metadata": {
        "id": "8U2TmYj29yNb"
      }
    },
    {
      "cell_type": "code",
      "source": [
        "a=4\n",
        "b=5\n",
        "questão = a != b  # != é um conjunto de caracteres que representa \"diferente de\"\n",
        "print(questão)"
      ],
      "metadata": {
        "colab": {
          "base_uri": "https://localhost:8080/"
        },
        "id": "cgaD4H_C5O4a",
        "outputId": "5918a9af-8afe-412b-cbc5-45dfdac29a72"
      },
      "execution_count": 16,
      "outputs": [
        {
          "output_type": "stream",
          "name": "stdout",
          "text": [
            "True\n"
          ]
        }
      ]
    },
    {
      "cell_type": "markdown",
      "source": [
        "Acessando um elemeno da string por meio de seu índice"
      ],
      "metadata": {
        "id": "lWsDsuGc-En4"
      }
    },
    {
      "cell_type": "code",
      "source": [
        "frase = 'Olha isso mano, estou impressionado'\n",
        "print(frase[0])\n",
        "print(frase[5])"
      ],
      "metadata": {
        "colab": {
          "base_uri": "https://localhost:8080/"
        },
        "id": "GMiJPWPE5f59",
        "outputId": "6457c908-2c39-4cba-9d7f-7478fc9489bf"
      },
      "execution_count": 23,
      "outputs": [
        {
          "output_type": "stream",
          "name": "stdout",
          "text": [
            "O\n",
            "i\n"
          ]
        }
      ]
    },
    {
      "cell_type": "markdown",
      "source": [
        "## **Concatenação**"
      ],
      "metadata": {
        "id": "tXsZSMIs0WbY"
      }
    },
    {
      "cell_type": "code",
      "source": [
        "s1 = 'Lógica de programação'\n",
        "s1 = s1 + ' e algoritmos'\n",
        "print(s1)"
      ],
      "metadata": {
        "colab": {
          "base_uri": "https://localhost:8080/"
        },
        "id": "9GTMu3mxwvNQ",
        "outputId": "ae5c32c4-58e3-4104-af7e-a98f33209fae"
      },
      "execution_count": 4,
      "outputs": [
        {
          "output_type": "stream",
          "name": "stdout",
          "text": [
            "Lógica de programação e algoritmos\n"
          ]
        }
      ]
    },
    {
      "cell_type": "code",
      "source": [
        "s1 = 'A' + '-' * 10 + 'B'\n",
        "print(s1)"
      ],
      "metadata": {
        "colab": {
          "base_uri": "https://localhost:8080/"
        },
        "id": "J7CUn9O7wvTi",
        "outputId": "af3af3e2-dff9-45fa-a07f-361d1716be0e"
      },
      "execution_count": 5,
      "outputs": [
        {
          "output_type": "stream",
          "name": "stdout",
          "text": [
            "A----------B\n"
          ]
        }
      ]
    },
    {
      "cell_type": "markdown",
      "source": [
        "Quebra de linha"
      ],
      "metadata": {
        "id": "NL5RlHZ0XKdK"
      }
    },
    {
      "cell_type": "code",
      "source": [
        "print('Sabe quem eu sou?\\nO Melhor')  # \\n quebra uma linha"
      ],
      "metadata": {
        "colab": {
          "base_uri": "https://localhost:8080/"
        },
        "id": "wwtn-SVhWxGf",
        "outputId": "762cdf1b-4ad0-44c9-fe89-93e5dafe9e5f"
      },
      "execution_count": 59,
      "outputs": [
        {
          "output_type": "stream",
          "name": "stdout",
          "text": [
            "Sabe quem eu sou?\n",
            "O Melhor\n"
          ]
        }
      ]
    },
    {
      "cell_type": "markdown",
      "source": [
        "Tabulação"
      ],
      "metadata": {
        "id": "k0dvO9PpXWVN"
      }
    },
    {
      "cell_type": "code",
      "source": [
        "print('Sabe quem eu sou?\\tO Melhor') # \\t faz uma tabulação ou dá um espaço entre os termos"
      ],
      "metadata": {
        "colab": {
          "base_uri": "https://localhost:8080/"
        },
        "id": "Vk3x8FzLXW9I",
        "outputId": "8722c6a4-2640-4a05-821f-f7dbc9252659"
      },
      "execution_count": 58,
      "outputs": [
        {
          "output_type": "stream",
          "name": "stdout",
          "text": [
            "Sabe quem eu sou?\tO Melhor\n"
          ]
        }
      ]
    },
    {
      "cell_type": "markdown",
      "source": [
        "## **Composição** **moderna** "
      ],
      "metadata": {
        "id": "O7BhsUvm2yfM"
      }
    },
    {
      "cell_type": "code",
      "source": [
        "nota = 8.5\n",
        "disciplina = 'Lógica de programação e algoritmos'\n",
        "\n",
        "s1 = 'Sua nota foi de {} na disciplina de {}' .format(nota,disciplina)\n",
        "\n",
        "print(s1)"
      ],
      "metadata": {
        "colab": {
          "base_uri": "https://localhost:8080/"
        },
        "id": "6FD7A4p50U1g",
        "outputId": "d5d16aa6-f84b-4e98-e4ed-f7a84d5dfa19"
      },
      "execution_count": 7,
      "outputs": [
        {
          "output_type": "stream",
          "name": "stdout",
          "text": [
            "Sua nota foi de 8.5 na disciplina de Lógica de programação e algoritmos\n"
          ]
        }
      ]
    },
    {
      "cell_type": "markdown",
      "source": [
        "## **Fatiamento**"
      ],
      "metadata": {
        "id": "CTBacYDY3Xtl"
      }
    },
    {
      "cell_type": "code",
      "source": [
        "s1 = 'Lógica de programação e algoritmos'\n",
        "print(s1[0:6])"
      ],
      "metadata": {
        "colab": {
          "base_uri": "https://localhost:8080/"
        },
        "id": "x2vliPUv2yDH",
        "outputId": "b0a18933-cd42-4b3f-ed54-bcabece1636a"
      },
      "execution_count": 9,
      "outputs": [
        {
          "output_type": "stream",
          "name": "stdout",
          "text": [
            "Lógica\n"
          ]
        }
      ]
    },
    {
      "cell_type": "code",
      "source": [
        "s1 = 'Lógica de programação e algoritmos'\n",
        "print(s1[24:34])"
      ],
      "metadata": {
        "colab": {
          "base_uri": "https://localhost:8080/"
        },
        "id": "WunabvL33aXN",
        "outputId": "bd88ba81-a671-49f9-9322-1c4a86adec98"
      },
      "execution_count": 10,
      "outputs": [
        {
          "output_type": "stream",
          "name": "stdout",
          "text": [
            "algoritmos\n"
          ]
        }
      ]
    },
    {
      "cell_type": "code",
      "source": [
        "s1 = 'Lógica de programação e algoritmos'\n",
        "print(s1[:6])"
      ],
      "metadata": {
        "colab": {
          "base_uri": "https://localhost:8080/"
        },
        "id": "G2RGt49935lN",
        "outputId": "5995e84e-cc59-4f3d-e11a-b7dc5f286793"
      },
      "execution_count": 15,
      "outputs": [
        {
          "output_type": "stream",
          "name": "stdout",
          "text": [
            "Lógica\n"
          ]
        }
      ]
    },
    {
      "cell_type": "code",
      "source": [
        "s1 = 'Lógica de programação e algoritmos'\n",
        "print(s1[:21])"
      ],
      "metadata": {
        "colab": {
          "base_uri": "https://localhost:8080/"
        },
        "id": "Y0orHy8u35bz",
        "outputId": "88ae6af5-3f37-4966-bf38-ab9a25b5beed"
      },
      "execution_count": 16,
      "outputs": [
        {
          "output_type": "stream",
          "name": "stdout",
          "text": [
            "Lógica de programação\n"
          ]
        }
      ]
    },
    {
      "cell_type": "markdown",
      "source": [
        "## **Tamanho (length)**"
      ],
      "metadata": {
        "id": "cb6tcd9E4P0r"
      }
    },
    {
      "cell_type": "code",
      "source": [
        "s1 = 'Lógica de programação e algoritmos'\n",
        "tamanho = len(s1)\n",
        "print(tamanho)"
      ],
      "metadata": {
        "colab": {
          "base_uri": "https://localhost:8080/"
        },
        "id": "OcxFonOj4PgX",
        "outputId": "cf741e5b-1e4b-40f1-d913-e1368f69fd83"
      },
      "execution_count": 17,
      "outputs": [
        {
          "output_type": "stream",
          "name": "stdout",
          "text": [
            "34\n"
          ]
        }
      ]
    },
    {
      "cell_type": "markdown",
      "source": [
        "## **Função** **de** **entrada**"
      ],
      "metadata": {
        "id": "PJ63CcVdPioT"
      }
    },
    {
      "cell_type": "code",
      "source": [
        "idade = input('Qual a sua idade?')\n",
        "print(idade)"
      ],
      "metadata": {
        "colab": {
          "base_uri": "https://localhost:8080/"
        },
        "id": "dZb-DVbnPv-3",
        "outputId": "79125d37-771c-47c4-9a03-fdbffd72c712"
      },
      "execution_count": 26,
      "outputs": [
        {
          "output_type": "stream",
          "name": "stdout",
          "text": [
            "Qual a sua idade?20\n",
            "20\n"
          ]
        }
      ]
    },
    {
      "cell_type": "code",
      "source": [
        "nome = input('Qual o seu nome?')\n",
        "print('Olá {}, seja bem-vindo!' .format(nome))"
      ],
      "metadata": {
        "colab": {
          "base_uri": "https://localhost:8080/"
        },
        "id": "cGTgEXCMPw5o",
        "outputId": "21a38304-dd26-455e-badf-7c840e0679b4"
      },
      "execution_count": 28,
      "outputs": [
        {
          "output_type": "stream",
          "name": "stdout",
          "text": [
            "Qual o seu nome?Daniel\n",
            "Olá Daniel, seja bem-vindo!\n"
          ]
        }
      ]
    },
    {
      "cell_type": "markdown",
      "source": [
        "Convertendo dados de entrada"
      ],
      "metadata": {
        "id": "sOqzkw-eSgo-"
      }
    },
    {
      "cell_type": "code",
      "source": [
        "nota = float(input('Qual a sua nota? '))\n",
        "print('A sua nota é {}.' .format(nota))"
      ],
      "metadata": {
        "colab": {
          "base_uri": "https://localhost:8080/"
        },
        "id": "cqQCXd44Si0D",
        "outputId": "3780dc4d-52ab-4e22-a88d-3d1c488ff2f4"
      },
      "execution_count": 39,
      "outputs": [
        {
          "output_type": "stream",
          "name": "stdout",
          "text": [
            "Qual a sua nota? 9.0\n",
            "A sua nota é 9.0.\n"
          ]
        }
      ]
    },
    {
      "cell_type": "code",
      "source": [
        "num1 = int(input('Digite um número inteiro: '))\n",
        "num2 = int(input('Digite mais um número inteiro: '))\n",
        "res = 'O resultado da soma de {} e {} é igual a {}.' .format(num1, num2, num1+num2)\n",
        "\n",
        "print(res)\n",
        "\n"
      ],
      "metadata": {
        "colab": {
          "base_uri": "https://localhost:8080/"
        },
        "id": "COEFFX2bTwOe",
        "outputId": "b6ae3573-ac4e-4cfb-be20-0d2f46228134"
      },
      "execution_count": 45,
      "outputs": [
        {
          "output_type": "stream",
          "name": "stdout",
          "text": [
            "Digite um número inteiro: 45\n",
            "Digite mais um número inteiro: 67\n",
            "O resultado da soma de 45 e 67 é igual a 112.\n"
          ]
        }
      ]
    },
    {
      "cell_type": "markdown",
      "source": [
        "## **Exercícios**"
      ],
      "metadata": {
        "id": "0iES-UQkYhG7"
      }
    },
    {
      "cell_type": "markdown",
      "source": [
        "Total de segundos"
      ],
      "metadata": {
        "id": "QJzNQA0zcpXp"
      }
    },
    {
      "cell_type": "code",
      "source": [
        "d = int(input('Digite uma quantidade de dias: '))   # 1 dia = 24 horas \n",
        "h = int(input('Digite uma quantidade de horas: '))       # 1 hora = 60 minutos\n",
        "m = int(input('Digite uma quantidade de minutos: '))     # 1 min = 60 segundos\n",
        "s = int(input('Digite uma quantidade de segundos: '))\n",
        "\n",
        "total = s + (m * 60) + (h * 60 ** 2) + (d * 60 ** 2 * 24)  # ** significa potenciação ou exponenciação\n",
        "\n",
        "res = 'O total de segundos calculados é {}.' .format(total)\n",
        "\n",
        "print(res)"
      ],
      "metadata": {
        "colab": {
          "base_uri": "https://localhost:8080/"
        },
        "id": "bwq51ismYguP",
        "outputId": "a05bc07f-5657-4ff0-cfa7-e1096e98491e"
      },
      "execution_count": 69,
      "outputs": [
        {
          "output_type": "stream",
          "name": "stdout",
          "text": [
            "Digite uma quantidade de dias: 5\n",
            "Digite uma quantidade de horas: 2\n",
            "Digite uma quantidade de minutos: 30\n",
            "Digite uma quantidade de segundos: 7\n",
            "O total de segundos calculados é 441007.\n"
          ]
        }
      ]
    },
    {
      "cell_type": "markdown",
      "source": [
        "Preço, desconto e Valor final"
      ],
      "metadata": {
        "id": "rGdX_bHmcteJ"
      }
    },
    {
      "cell_type": "code",
      "source": [
        "preco = float(input('Por favor, insira um preço: '))\n",
        "desc = float(input('Por favor, insira o percentual de desconto (sem %): '))\n",
        "\n",
        "perc = desc /100\n",
        "\n",
        "valor_desc = (preco * perc)\n",
        "vf = (preco - valor_desc)\n",
        "\n",
        "recap = 'O preço do produto é de {} reais, porém, terá um desconto de {}%.' .format(preco,desc)\n",
        "res = 'O desconto representa uma economia de {} reais e o valor final do produto é R${}' .format(valor_desc,vf) \n",
        "#se desejar usar apenas duas casas decimais, é precisa utilizar o termo \"%.2f\" além de % e o nome da variável\n",
        "print(recap)\n",
        "print(res)"
      ],
      "metadata": {
        "colab": {
          "base_uri": "https://localhost:8080/"
        },
        "id": "-AQuJLsFYghO",
        "outputId": "5462a76e-f1ca-4877-97c1-4e32bf1a257f"
      },
      "execution_count": 2,
      "outputs": [
        {
          "output_type": "stream",
          "name": "stdout",
          "text": [
            "Por favor, insira um preço: 200\n",
            "Por favor, insira o percentual de desconto (sem %): 49\n",
            "O preço do produto é de 200.0 reais, porém, terá um desconto de 49%.\n",
            "O desconto representa uma economia de 98.0 reais e o valor final do produto é R$102.0\n"
          ]
        }
      ]
    },
    {
      "cell_type": "markdown",
      "source": [
        "Celsius(C) para Fahrenheit (F)"
      ],
      "metadata": {
        "id": "ynaKzqXyx53q"
      }
    },
    {
      "cell_type": "code",
      "source": [
        "c = int(input('Insira uma temperatura em graus Celsius: '))\n",
        "\n",
        "f = float (9 * c / 5) + 32\n",
        "\n",
        "res = '{} graus celsius esquivale a {} graus fahrenheit'.format(c,f)\n",
        "\n",
        "print(res)"
      ],
      "metadata": {
        "colab": {
          "base_uri": "https://localhost:8080/"
        },
        "id": "dEJdpZBix6Oy",
        "outputId": "d9e1dbd1-2151-4034-8032-d104212b553d"
      },
      "execution_count": 9,
      "outputs": [
        {
          "output_type": "stream",
          "name": "stdout",
          "text": [
            "Insira uma temperatura em graus Celsius: 30\n",
            "30 graus celsius esquivale a 86.0 graus fahrenheit\n"
          ]
        }
      ]
    }
  ]
}